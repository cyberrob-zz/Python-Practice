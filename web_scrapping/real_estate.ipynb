{
 "metadata": {
  "language_info": {
   "codemirror_mode": {
    "name": "ipython",
    "version": 3
   },
   "file_extension": ".py",
   "mimetype": "text/x-python",
   "name": "python",
   "nbconvert_exporter": "python",
   "pygments_lexer": "ipython3",
   "version": "3.9.0-final"
  },
  "orig_nbformat": 2,
  "kernelspec": {
   "name": "Python 3.9.0 64-bit",
   "display_name": "Python 3.9.0 64-bit",
   "metadata": {
    "interpreter": {
     "hash": "ac2eaa0ea0ebeafcc7822e65e46aa9d4f966f30b695406963e145ea4a91cd4fc"
    }
   }
  }
 },
 "nbformat": 4,
 "nbformat_minor": 2,
 "cells": [
  {
   "source": [
    "import requests\n",
    "from bs4 import BeautifulSoup\n",
    "\n",
    "# Parameters\n",
    "taipei_city=0\n",
    "new_taipei_city=2\n",
    "\n",
    "target_city = new_taipei_city\n",
    "\n",
    "shilin_district=111\n",
    "luchou_distrcit=247\n",
    "\n",
    "target_district = luchou_distrcit\n",
    "\n",
    "sort_descend_by_update_time = '21'\n",
    "sort_ascend_by_update_time = '20'\n",
    "sort_by_default = '11'\n",
    "\n",
    "price_range_1000_1500 = '1000%7E1500'\n",
    "price_range_1500_2000 = '1500%7E2000'\n",
    "target_price_range = price_range_1000_1500\n",
    "\n",
    "item_per_page = 19\n",
    "\n",
    "headers = {'User-agent': 'Mozilla/5.0 (X11; Ubuntu; Linux x86_64; rv:61.0) Gecko/20100101 Firefox/61.0'}\n",
    "# Parameters\n",
    "\n",
    "rakuya_request_url = f'https://www.rakuya.com.tw/sell/result?city={target_city}&zipcode={target_district}&usecode=1&sort={sort_by_default}&price={target_price_range}&page='\n",
    "\n",
    "print(f'Looing for city: {target_city} district: {target_district}, price_range: {target_price_range} ...')\n",
    "\n",
    "request = requests.get(url=rakuya_request_url, headers=headers)\n",
    "soup = BeautifulSoup(markup=request.content,features=\"html.parser\")\n",
    "\n",
    "total_items = soup.find(name='span', attrs={\"class\": \"numb setSearchTotal\"}).text\n",
    "print(\"Total found item: %s\" % total_items)\n",
    "\n",
    "page_limit = math.ceil(int(total_items)/item_per_page)+1\n",
    "print(\"Page limit: %s\" % page_limit)\n",
    "print('\\n')\n",
    "\n",
    "headers = {\n",
    "  \"User-Agent\": \"Mozilla/5.0 (Windows NT 10.0; Win64; x64) AppleWebKit/537.36 (KHTML, like Gecko) Chrome/70.0.3538.77 Safari/537.36\"\n",
    "}\n",
    "\n",
    "list = []\n",
    "\n",
    "for page in range(1, page_limit):\n",
    "    target_url = f'{rakuya_request_url}{page}'\n",
    "    print(\"Working on %s\" % target_url)\n",
    "\n",
    "    request = requests.get(url=target_url, headers=headers)\n",
    "    soup = BeautifulSoup(markup=request.content,features=\"html.parser\")\n",
    "\n",
    "    all_listing = soup.find_all(name=\"section\",attrs={\"class\":\"grid-item search-obj\"})\n",
    "\n",
    "    for idx, item in enumerate(all_listing):\n",
    "        dict = {}\n",
    "        right_side = item.find(name='div',attrs={\"class\":\"grid-column rightside\"})\n",
    "        dict['title'] = right_side.find(name=\"div\", attrs={\"class\":\"h2 title-2\"}).text\n",
    "        dict['address'] = right_side.find(name=\"h2\", attrs={\"class\":\"address\"}).text.replace('\\n','').replace(' ','')\n",
    "        dict['price(w)'] = right_side.find(name='span',attrs={\"class\":\"text__price\"}).text.replace('萬','')\n",
    "        dict['unit_price'] = right_side.find(name='span',attrs={\"class\":\"unit__price\"}).text\n",
    "        \n",
    "        info = right_side.find(name='ul',attrs={\"class\":\"list__info\"}).text.split()\n",
    "        dict['purpose'] = info[0]\n",
    "        dict['area(ping))'] = info[1].replace('坪','')\n",
    "        dict['age'] = info[2]\n",
    "        dict['floor'] = info[3]\n",
    "        \n",
    "        # dict['info'] = right_side.find(name='ul',attrs={\"class\":\"list__info\"}).text.replace('\\n','').replace(' ','')\n",
    "        dict['url'] = item.find('a').get('href')\n",
    "        list.append(dict)\n",
    "        # print(\"%s: %s \\n%s/%s, \\n%s, %s\" % (idx, title, price, unit_price, address, info))\n",
    "        # print(\"\\n\")\n",
    "\n",
    "    \n",
    "print(\"Total items %s\", len(list))\n",
    "\n",
    "\n"
   ],
   "cell_type": "code",
   "metadata": {
    "tags": []
   },
   "execution_count": 2,
   "outputs": [
    {
     "output_type": "error",
     "ename": "ModuleNotFoundError",
     "evalue": "No module named 'requests'",
     "traceback": [
      "\u001b[0;31m---------------------------------------------------------------------------\u001b[0m",
      "\u001b[0;31mModuleNotFoundError\u001b[0m                       Traceback (most recent call last)",
      "\u001b[0;32m<ipython-input-2-6a239226e408>\u001b[0m in \u001b[0;36m<module>\u001b[0;34m\u001b[0m\n\u001b[0;32m----> 1\u001b[0;31m \u001b[0;32mimport\u001b[0m \u001b[0mrequests\u001b[0m\u001b[0;34m\u001b[0m\u001b[0;34m\u001b[0m\u001b[0m\n\u001b[0m\u001b[1;32m      2\u001b[0m \u001b[0;32mfrom\u001b[0m \u001b[0mbs4\u001b[0m \u001b[0;32mimport\u001b[0m \u001b[0mBeautifulSoup\u001b[0m\u001b[0;34m\u001b[0m\u001b[0;34m\u001b[0m\u001b[0m\n\u001b[1;32m      3\u001b[0m \u001b[0;34m\u001b[0m\u001b[0m\n\u001b[1;32m      4\u001b[0m \u001b[0;31m# Parameters\u001b[0m\u001b[0;34m\u001b[0m\u001b[0;34m\u001b[0m\u001b[0;34m\u001b[0m\u001b[0m\n\u001b[1;32m      5\u001b[0m \u001b[0mtaipei_city\u001b[0m\u001b[0;34m=\u001b[0m\u001b[0;36m0\u001b[0m\u001b[0;34m\u001b[0m\u001b[0;34m\u001b[0m\u001b[0m\n",
      "\u001b[0;31mModuleNotFoundError\u001b[0m: No module named 'requests'"
     ]
    }
   ]
  },
  {
   "cell_type": "code",
   "execution_count": 97,
   "metadata": {},
   "outputs": [],
   "source": [
    "import pandas\n",
    "df = pandas.DataFrame(list)\n",
    "df.to_csv(f'{target_city}_{target_district}_{target_price_range}.csv')"
   ]
  },
  {
   "cell_type": "code",
   "execution_count": null,
   "metadata": {},
   "outputs": [],
   "source": []
  }
 ]
}